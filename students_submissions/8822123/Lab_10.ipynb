{
 "cells": [
  {
   "cell_type": "markdown",
   "id": "aecff5c9",
   "metadata": {},
   "source": [
    "# Step-I"
   ]
  },
  {
   "cell_type": "code",
   "execution_count": 1,
   "id": "a40d8e7e",
   "metadata": {},
   "outputs": [],
   "source": [
    "import os\n",
    "import shutil\n"
   ]
  },
  {
   "cell_type": "code",
   "execution_count": 2,
   "id": "bab0f7fb",
   "metadata": {},
   "outputs": [],
   "source": [
    "data_dir = 'C:\\\\Users\\\\HP\\\\Downloads\\\\archive (2)' \n",
    "train_dir = 'C:\\\\Users\\\\HP\\\\Downloads\\\\archive (2)\\\\train' \n",
    "test_dir = 'C:\\\\Users\\\\HP\\\\Downloads\\\\archive (2)\\\\test' \n",
    "valid_dir = 'C:\\\\Users\\\\HP\\\\Downloads\\\\archive (2)\\\\valid' "
   ]
  },
  {
   "cell_type": "markdown",
   "id": "7dec612c",
   "metadata": {},
   "source": [
    "# Step 2: Identify and Use the Top 3 Classes\n",
    "To work with the three classes with the highest number of images, you'll need to identify those classes and organize your data accordingly. You can use Python's os module to handle file operations. For example:"
   ]
  },
  {
   "cell_type": "code",
   "execution_count": 3,
   "id": "447626c5",
   "metadata": {},
   "outputs": [],
   "source": [
    "# Create a list of classes and their corresponding number of images\n",
    "class_image_counts = []\n",
    "for class_name in os.listdir(train_dir):\n",
    "    class_path = os.path.join(train_dir, class_name)\n",
    "    if os.path.isdir(class_path):\n",
    "        num_images = len(os.listdir(class_path))\n",
    "        class_image_counts.append((class_name, num_images))"
   ]
  },
  {
   "cell_type": "code",
   "execution_count": 4,
   "id": "826c9ae5",
   "metadata": {},
   "outputs": [],
   "source": [
    "# Sort the classes based on the number of images (descending order)\n",
    "class_image_counts.sort(key=lambda x: x[1], reverse=True)\n"
   ]
  },
  {
   "cell_type": "code",
   "execution_count": 5,
   "id": "a6c0e563",
   "metadata": {},
   "outputs": [
    {
     "data": {
      "text/plain": [
       "[('RUFOUS TREPE', 263),\n",
       " ('HOUSE FINCH', 248),\n",
       " ('D-ARNAUDS BARBET', 233),\n",
       " ('OVENBIRD', 233),\n",
       " ('ASIAN GREEN BEE EATER', 220),\n",
       " ('SWINHOES PHEASANT', 216),\n",
       " ('WOOD DUCK', 214),\n",
       " ('CASPIAN TERN', 213),\n",
       " ('RED BILLED TROPICBIRD', 212),\n",
       " ('WOOD THRUSH', 211),\n",
       " ('FRILL BACK PIGEON', 209),\n",
       " ('MERLIN', 209),\n",
       " ('PYRRHULOXIA', 209),\n",
       " ('MILITARY MACAW', 208),\n",
       " ('ORNATE HAWK EAGLE', 208),\n",
       " ('OYSTER CATCHER', 207),\n",
       " ('LAUGHING GULL', 206),\n",
       " ('EASTERN YELLOW ROBIN', 205),\n",
       " ('JACOBIN PIGEON', 204),\n",
       " ('DARK EYED JUNCO', 203),\n",
       " ('GREATER PRAIRIE CHICKEN', 203),\n",
       " ('RED TAILED HAWK', 202),\n",
       " ('YELLOW BREASTED CHAT', 202),\n",
       " ('VIOLET BACKED STARLING', 201),\n",
       " ('VIOLET GREEN SWALLOW', 201),\n",
       " ('LIMPKIN', 200),\n",
       " ('PLUSH CRESTED JAY', 200),\n",
       " ('RED KNOT', 200),\n",
       " ('SORA', 200),\n",
       " ('GREY HEADED CHACHALACA', 199),\n",
       " ('BLUE THROATED PIPING GUAN', 198),\n",
       " ('CRIMSON SUNBIRD', 198),\n",
       " ('CAMPO FLICKER', 197),\n",
       " ('CRESTED WOOD PARTRIDGE', 197),\n",
       " ('KNOB BILLED DUCK', 197),\n",
       " ('MARABOU STORK', 197),\n",
       " ('RED BEARDED BEE EATER', 197),\n",
       " ('ROSE BREASTED COCKATOO', 197),\n",
       " ('SAYS PHOEBE', 197),\n",
       " ('COPPERSMITH BARBET', 196),\n",
       " ('NORTHERN PARULA', 196),\n",
       " ('STRIATED CARACARA', 196),\n",
       " ('BLUE GRAY GNATCATCHER', 195),\n",
       " ('WILLOW PTARMIGAN', 195),\n",
       " ('BANDED BROADBILL', 194),\n",
       " ('WOODLAND KINGFISHER', 194),\n",
       " ('AMERICAN DIPPER', 193),\n",
       " ('RAZORBILL', 193),\n",
       " ('ROSEATE SPOONBILL', 193),\n",
       " ('VARIED THRUSH', 193),\n",
       " ('WRENTIT', 193),\n",
       " ('BROWN HEADED COWBIRD', 192),\n",
       " ('ORANGE BREASTED TROGON', 192),\n",
       " ('PALM NUT VULTURE', 192),\n",
       " ('RED CROSSBILL', 191),\n",
       " ('ASIAN OPENBILL STORK', 190),\n",
       " ('AUSTRALASIAN FIGBIRD', 190),\n",
       " ('DUNLIN', 190),\n",
       " ('EASTERN MEADOWLARK', 190),\n",
       " ('LOGGERHEAD SHRIKE', 190),\n",
       " ('SNOW GOOSE', 190),\n",
       " ('VEERY', 190),\n",
       " ('GREAT ARGUS', 189),\n",
       " ('RUFUOS MOTMOT', 189),\n",
       " ('ASHY STORM PETREL', 188),\n",
       " ('BLACK VENTED SHEARWATER', 188),\n",
       " ('PHAINOPEPLA', 188),\n",
       " ('AFRICAN PIED HORNBILL', 187),\n",
       " ('AMERICAN WIGEON', 187),\n",
       " ('AUCKLAND SHAQ', 187),\n",
       " ('MCKAYS BUNTING', 187),\n",
       " ('SNOWY SHEATHBILL', 187),\n",
       " ('TAWNY FROGMOUTH', 187),\n",
       " ('BLUE MALKOHA', 186),\n",
       " ('INDIAN PITTA', 186),\n",
       " ('RUBY CROWNED KINGLET', 186),\n",
       " ('BLUE GROUSE', 185),\n",
       " ('CANVASBACK', 185),\n",
       " ('DOUBLE BRESTED CORMARANT', 185),\n",
       " ('NORTHERN BEARDLESS TYRANNULET', 185),\n",
       " ('PUNA TEAL', 185),\n",
       " ('SURF SCOTER', 185),\n",
       " ('BUFFLEHEAD', 184),\n",
       " ('GREATOR SAGE GROUSE', 184),\n",
       " ('SPOTTED WHISTLING DUCK', 184),\n",
       " ('BREWERS BLACKBIRD', 183),\n",
       " ('INDIAN ROLLER', 183),\n",
       " ('MASKED BOBWHITE', 183),\n",
       " ('CLARKS GREBE', 182),\n",
       " ('OILBIRD', 182),\n",
       " ('VERDIN', 182),\n",
       " ('BLACK HEADED CAIQUE', 181),\n",
       " ('CRESTED SERPENT EAGLE', 181),\n",
       " ('TREE SWALLOW', 181),\n",
       " ('ABBOTTS BOOBY', 180),\n",
       " ('CEDAR WAXWING', 180),\n",
       " ('ABYSSINIAN GROUND HORNBILL', 179),\n",
       " ('AFRICAN PYGMY GOOSE', 179),\n",
       " ('AMERICAN AVOCET', 179),\n",
       " ('AMERICAN PIPIT', 179),\n",
       " ('BROWN CREPPER', 177),\n",
       " ('CABOTS TRAGOPAN', 177),\n",
       " ('COLLARED ARACARI', 177),\n",
       " ('COMMON GRACKLE', 177),\n",
       " ('FLAME TANAGER', 177),\n",
       " ('GOLDEN CHEEKED WARBLER', 176),\n",
       " ('GREEN MAGPIE', 176),\n",
       " ('PARADISE TANAGER', 176),\n",
       " ('WHITE EARED HUMMINGBIRD', 176),\n",
       " ('GLOSSY IBIS', 175),\n",
       " ('HARPY EAGLE', 175),\n",
       " ('KILLDEAR', 175),\n",
       " ('LITTLE AUK', 175),\n",
       " ('SHOEBILL', 175),\n",
       " ('SNOW PARTRIDGE', 175),\n",
       " ('VIOLET CUCKOO', 175),\n",
       " ('WHITE TAILED TROPIC', 175),\n",
       " ('ROSE BREASTED GROSBEAK', 174),\n",
       " ('BLACK NECKED STILT', 173),\n",
       " ('BLUE DACNIS', 173),\n",
       " ('HORNED LARK', 173),\n",
       " ('PYGMY KINGFISHER', 173),\n",
       " ('BLACK BREASTED PUFFBIRD', 172),\n",
       " ('COLLARED CRESCENTCHEST', 172),\n",
       " ('FOREST WAGTAIL', 172),\n",
       " ('RED SHOULDERED HAWK', 172),\n",
       " ('WALL CREAPER', 172),\n",
       " ('AMERICAN BITTERN', 170),\n",
       " ('BLUE GROSBEAK', 170),\n",
       " ('CHESTNUT WINGED CUCKOO', 170),\n",
       " ('KING EIDER', 170),\n",
       " ('ZEBRA DOVE', 170),\n",
       " ('GREAT KISKADEE', 169),\n",
       " ('RED LEGGED HONEYCREEPER', 169),\n",
       " ('SATYR TRAGOPAN', 169),\n",
       " ('SUNBITTERN', 169),\n",
       " ('VULTURINE GUINEAFOWL', 169),\n",
       " ('AZARAS SPINETAIL', 168),\n",
       " ('BAR-TAILED GODWIT', 168),\n",
       " ('BLACK-THROATED SPARROW', 168),\n",
       " ('LUCIFER HUMMINGBIRD', 168),\n",
       " ('BLUE HERON', 167),\n",
       " ('CHUKAR PARTRIDGE', 167),\n",
       " ('HAWFINCH', 167),\n",
       " ('RED FACED WARBLER', 167),\n",
       " ('RED FODY', 167),\n",
       " ('ALPINE CHOUGH', 166),\n",
       " ('BANDED PITA', 166),\n",
       " ('COCKATOO', 166),\n",
       " ('DOUBLE EYED FIG PARROT', 166),\n",
       " ('EURASIAN BULLFINCH', 166),\n",
       " ('PUFFIN', 166),\n",
       " ('ALEXANDRINE PARAKEET', 165),\n",
       " ('AZURE TIT', 165),\n",
       " ('BANANAQUIT', 165),\n",
       " ('BLACK TAIL CRAKE', 165),\n",
       " ('CHINESE BAMBOO PARTRIDGE', 165),\n",
       " ('ENGGANO MYNA', 165),\n",
       " ('GREAT TINAMOU', 165),\n",
       " ('HYACINTH MACAW', 165),\n",
       " ('TOWNSENDS WARBLER', 165),\n",
       " ('AMERICAN FLAMINGO', 164),\n",
       " ('ASHY THRUSHBIRD', 164),\n",
       " ('AVADAVAT', 164),\n",
       " ('BLACK SWAN', 164),\n",
       " ('CRESTED OROPENDOLA', 164),\n",
       " ('GRAY KINGBIRD', 164),\n",
       " ('JAVA SPARROW', 164),\n",
       " ('REGENT BOWERBIRD', 164),\n",
       " ('SHORT BILLED DOWITCHER', 164),\n",
       " ('WHITE THROATED BEE EATER', 164),\n",
       " ('ABBOTTS BABBLER', 163),\n",
       " ('BAND TAILED GUAN', 163),\n",
       " ('BLACK THROATED BUSHTIT', 163),\n",
       " ('BROWN THRASHER', 163),\n",
       " ('CERULEAN WARBLER', 163),\n",
       " ('COCK OF THE  ROCK', 163),\n",
       " ('CRESTED KINGFISHER', 163),\n",
       " ('CROW', 163),\n",
       " ('EMU', 163),\n",
       " ('GREAT JACAMAR', 163),\n",
       " ('HAMERKOP', 163),\n",
       " ('INCA TERN', 163),\n",
       " ('JOCOTOCO ANTPITTA', 163),\n",
       " ('MALACHITE KINGFISHER', 163),\n",
       " ('PAINTED BUNTING', 163),\n",
       " ('RUDDY SHELDUCK', 163),\n",
       " ('TURKEY VULTURE', 163),\n",
       " ('VISAYAN HORNBILL', 163),\n",
       " ('BLACK FACED SPOONBILL', 162),\n",
       " ('CACTUS WREN', 162),\n",
       " ('CARMINE BEE-EATER', 162),\n",
       " ('CHIPPING SPARROW', 162),\n",
       " ('CINNAMON ATTILA', 162),\n",
       " ('CINNAMON FLYCATCHER', 162),\n",
       " ('CUBAN TODY', 162),\n",
       " ('ELLIOTS  PHEASANT', 162),\n",
       " ('FLAME BOWERBIRD', 162),\n",
       " ('GUINEA TURACO', 162),\n",
       " ('GURNEYS PITTA', 162),\n",
       " ('GYRFALCON', 162),\n",
       " ('JANDAYA PARAKEET', 162),\n",
       " ('RED WISKERED BULBUL', 162),\n",
       " ('VIOLET TURACO', 162),\n",
       " ('ALBERTS TOWHEE', 161),\n",
       " ('CALIFORNIA QUAIL', 161),\n",
       " ('CINNAMON TEAL', 161),\n",
       " ('CLARKS NUTCRACKER', 161),\n",
       " ('COMMON LOON', 161),\n",
       " ('COMMON POORWILL', 161),\n",
       " ('INLAND DOTTEREL', 161),\n",
       " ('OSTRICH', 161),\n",
       " ('PARUS MAJOR', 161),\n",
       " ('SNOWY OWL', 161),\n",
       " ('SPLENDID WREN', 161),\n",
       " ('SRI LANKA BLUE MAGPIE', 161),\n",
       " ('TAKAHE', 161),\n",
       " ('WHITE BREASTED WATERHEN', 161),\n",
       " ('BALD EAGLE', 160),\n",
       " ('BEARDED BARBET', 160),\n",
       " ('BORNEAN LEAFBIRD', 160),\n",
       " ('BUSH TURKEY', 160),\n",
       " ('CALIFORNIA GULL', 160),\n",
       " ('CANARY', 160),\n",
       " ('CASSOWARY', 160),\n",
       " ('CRESTED AUKLET', 160),\n",
       " ('EASTERN ROSELLA', 160),\n",
       " ('FAIRY BLUEBIRD', 160),\n",
       " ('GRAY PARTRIDGE', 160),\n",
       " ('HAWAIIAN GOOSE', 160),\n",
       " ('HELMET VANGA', 160),\n",
       " ('HEPATIC TANAGER', 160),\n",
       " ('LARK BUNTING', 160),\n",
       " ('LONG-EARED OWL', 160),\n",
       " ('NORTHERN GOSHAWK', 160),\n",
       " ('OKINAWA RAIL', 160),\n",
       " ('PALILA', 160),\n",
       " ('PURPLE MARTIN', 160),\n",
       " ('RED HEADED DUCK', 160),\n",
       " ('ROADRUNNER', 160),\n",
       " ('RUDY KINGFISHER', 160),\n",
       " ('SCARLET FACED LIOCICHLA', 160),\n",
       " ('SMITHS LONGSPUR', 160),\n",
       " ('SPANGLED COTINGA', 160),\n",
       " ('STEAMER DUCK', 160),\n",
       " ('STRIPPED SWALLOW', 160),\n",
       " ('WHITE NECKED RAVEN', 160),\n",
       " ('DALMATIAN PELICAN', 159),\n",
       " ('FRIGATE', 159),\n",
       " ('GOLD WING WARBLER', 159),\n",
       " ('GOLDEN PHEASANT', 159),\n",
       " ('GREY CUCKOOSHRIKE', 159),\n",
       " ('IBERIAN MAGPIE', 159),\n",
       " ('JACK SNIPE', 159),\n",
       " ('MALEO', 159),\n",
       " ('OCELLATED TURKEY', 159),\n",
       " ('RED NAPED TROGON', 159),\n",
       " ('WHITE CRESTED HORNBILL', 159),\n",
       " ('YELLOW HEADED BLACKBIRD', 159),\n",
       " ('AMERICAN COOT', 158),\n",
       " ('BARN OWL', 158),\n",
       " ('GOLDEN EAGLE', 158),\n",
       " ('GOLDEN PIPIT', 158),\n",
       " ('GREY PLOVER', 158),\n",
       " ('JAPANESE ROBIN', 158),\n",
       " ('BOBOLINK', 157),\n",
       " ('COMMON HOUSE MARTIN', 157),\n",
       " ('DOWNY WOODPECKER', 157),\n",
       " ('EASTERN TOWEE', 157),\n",
       " ('EGYPTIAN GOOSE', 157),\n",
       " ('GREATER PEWEE', 157),\n",
       " ('HORNED GUAN', 157),\n",
       " ('LAZULI BUNTING', 157),\n",
       " ('NOISY FRIARBIRD', 157),\n",
       " ('ORIENTAL BAY OWL', 157),\n",
       " ('SCARLET MACAW', 157),\n",
       " ('ASIAN CRESTED IBIS', 156),\n",
       " ('BLACK BAZA', 156),\n",
       " ('BLACK VULTURE', 156),\n",
       " ('CRESTED SHRIKETIT', 156),\n",
       " ('GREEN JAY', 156),\n",
       " ('IVORY GULL', 156),\n",
       " ('LOONEY BIRDS', 156),\n",
       " ('NORTHERN JACANA', 156),\n",
       " ('PEACOCK', 156),\n",
       " ('PEREGRINE FALCON', 156),\n",
       " ('RUFOUS KINGFISHER', 156),\n",
       " ('SANDHILL CRANE', 156),\n",
       " ('TURQUOISE MOTMOT', 156),\n",
       " ('AFRICAN OYSTER CATCHER', 155),\n",
       " ('AMERICAN KESTREL', 155),\n",
       " ('BLACK SKIMMER', 155),\n",
       " ('BLUE COAU', 155),\n",
       " ('BULWERS PHEASANT', 155),\n",
       " ('CAATINGA CACHOLOTE', 155),\n",
       " ('CAPE ROCK THRUSH', 155),\n",
       " ('CRESTED CARACARA', 155),\n",
       " ('GILA WOODPECKER', 155),\n",
       " ('GOULDIAN FINCH', 155),\n",
       " ('GRAY CATBIRD', 155),\n",
       " ('GROVED BILLED ANI', 155),\n",
       " ('HOATZIN', 155),\n",
       " ('HOOPOES', 155),\n",
       " ('HOUSE SPARROW', 155),\n",
       " ('IWI', 155),\n",
       " ('NORTHERN CARDINAL', 155),\n",
       " ('PARAKETT  AUKLET', 155),\n",
       " ('TEAL DUCK', 155),\n",
       " ('UMBRELLA BIRD', 155),\n",
       " ('VERMILION FLYCATHER', 155),\n",
       " ('WILSONS BIRD OF PARADISE', 155),\n",
       " ('YELLOW CACIQUE', 155),\n",
       " ('AFRICAN EMERALD CUCKOO', 154),\n",
       " ('ANDEAN SISKIN', 154),\n",
       " ('APAPANE', 154),\n",
       " ('AUSTRAL CANASTERO', 154),\n",
       " ('BELTED KINGFISHER', 154),\n",
       " ('BORNEAN BRISTLEHEAD', 154),\n",
       " ('BRANDT CORMARANT', 154),\n",
       " ('BROWN NOODY', 154),\n",
       " ('CAPE GLOSSY STARLING', 154),\n",
       " ('CRIMSON CHAT', 154),\n",
       " ('EARED PITA', 154),\n",
       " ('EASTERN BLUEBIRD', 154),\n",
       " ('EURASIAN MAGPIE', 154),\n",
       " ('FAIRY PENGUIN', 154),\n",
       " ('GREEN WINGED DOVE', 154),\n",
       " ('KAKAPO', 154),\n",
       " ('LESSER ADJUTANT', 154),\n",
       " ('MALABAR HORNBILL', 154),\n",
       " ('MANDRIN DUCK', 154),\n",
       " ('MIKADO  PHEASANT', 154),\n",
       " ('NICOBAR PIGEON', 154),\n",
       " ('NORTHERN GANNET', 154),\n",
       " ('PHILIPPINE EAGLE', 154),\n",
       " ('PINK ROBIN', 154),\n",
       " ('PURPLE SWAMPHEN', 154),\n",
       " ('SCARLET CROWNED FRUIT DOVE', 154),\n",
       " ('SUPERB STARLING', 154),\n",
       " ('TIT MOUSE', 154),\n",
       " ('TROPICAL KINGBIRD', 154),\n",
       " ('WHITE BROWED CRAKE', 154),\n",
       " ('YELLOW BELLIED FLOWERPECKER', 154),\n",
       " ('ANHINGA', 153),\n",
       " ('APOSTLEBIRD', 153),\n",
       " ('BANDED STILT', 153),\n",
       " ('BLOOD PHEASANT', 153),\n",
       " ('CHARA DE COLLAR', 153),\n",
       " ('GAMBELS QUAIL', 153),\n",
       " ('INDIGO BUNTING', 153),\n",
       " ('MOURNING DOVE', 153),\n",
       " ('NORTHERN SHOVELER', 153),\n",
       " ('PURPLE FINCH', 153),\n",
       " ('PURPLE GALLINULE', 153),\n",
       " ('RED FACED CORMORANT', 153),\n",
       " ('SAMATRAN THRUSH', 153),\n",
       " ('WHITE CHEEKED TURACO', 153),\n",
       " ('WILD TURKEY', 153),\n",
       " ('ARARIPE MANAKIN', 152),\n",
       " ('BALD IBIS', 152),\n",
       " ('BORNEAN PHEASANT', 152),\n",
       " ('CALIFORNIA CONDOR', 152),\n",
       " ('CRESTED COUA', 152),\n",
       " ('CRESTED NUTHATCH', 152),\n",
       " ('EASTERN GOLDEN WEAVER', 152),\n",
       " ('EMPEROR PENGUIN', 152),\n",
       " ('FIORDLAND PENGUIN', 152),\n",
       " ('GRANDALA', 152),\n",
       " ('INDIGO FLYCATCHER', 152),\n",
       " ('OSPREY', 152),\n",
       " ('QUETZAL', 152),\n",
       " ('RED WINGED BLACKBIRD', 152),\n",
       " ('RING-NECKED PHEASANT', 152),\n",
       " ('ROUGH LEG BUZZARD', 152),\n",
       " ('SQUACCO HERON', 152),\n",
       " ('VENEZUELIAN TROUPIAL', 152),\n",
       " ('BIRD OF PARADISE', 151),\n",
       " ('HARLEQUIN DUCK', 151),\n",
       " ('HIMALAYAN MONAL', 151),\n",
       " ('SAND MARTIN', 151),\n",
       " ('VICTORIA CROWNED PIGEON', 151),\n",
       " ('ALTAMIRA YELLOWTHROAT', 150),\n",
       " ('ANIANIAU', 150),\n",
       " ('ANTBIRD', 150),\n",
       " ('BAIKAL TEAL', 150),\n",
       " ('BLUE THROATED TOUCANET', 150),\n",
       " ('EASTERN WIP POOR WILL', 150),\n",
       " ('FAN TAILED WIDOW', 150),\n",
       " ('FASCIATED WREN', 150),\n",
       " ('FIERY MINIVET', 150),\n",
       " ('FIRE TAILLED MYZORNIS', 150),\n",
       " ('GOLDEN PARAKEET', 150),\n",
       " ('HIMALAYAN BLUETAIL', 150),\n",
       " ('INDIAN VULTURE', 150),\n",
       " ('SPOTTED CATBIRD', 150),\n",
       " ('CAPE MAY WARBLER', 149),\n",
       " ('GREAT XENOPS', 149),\n",
       " ('HORNED SUNGEM', 149),\n",
       " ('IVORY BILLED ARACARI', 149),\n",
       " ('DOUBLE BARRED FINCH', 148),\n",
       " ('AMERICAN ROBIN', 147),\n",
       " ('DAURIAN REDSTART', 146),\n",
       " ('RED BELLIED PITTA', 146),\n",
       " ('BLACK THROATED HUET', 145),\n",
       " ('ANDEAN LAPWING', 144),\n",
       " ('BEARDED REEDLING', 144),\n",
       " ('BLONDE CRESTED WOODPECKER', 144),\n",
       " ('CHINESE POND HERON', 144),\n",
       " ('COPPERY TAILED COUCAL', 144),\n",
       " ('CRAB PLOVER', 144),\n",
       " ('ELEGANT TROGON', 144),\n",
       " ('EVENING GROSBEAK', 144),\n",
       " ('GREAT GRAY OWL', 144),\n",
       " ('IMPERIAL SHAQ', 144),\n",
       " ('KAGU', 144),\n",
       " ('SPOON BILED SANDPIPER', 144),\n",
       " ('STRIPPED MANAKIN', 144),\n",
       " ('BAY-BREASTED WARBLER', 143),\n",
       " ('BURCHELLS COURSER', 143),\n",
       " ('GREY HEADED FISH EAGLE', 143),\n",
       " ('JABIRU', 143),\n",
       " ('KOOKABURRA', 143),\n",
       " ('MALAGASY WHITE EYE', 143),\n",
       " ('STRIPED OWL', 143),\n",
       " ('BEARDED BELLBIRD', 142),\n",
       " ('BLACK AND YELLOW BROADBILL', 142),\n",
       " ('CRESTED FIREBACK', 142),\n",
       " ('GANG GANG COCKATOO', 142),\n",
       " ('MAGPIE GOOSE', 142),\n",
       " ('ROYAL FLYCATCHER', 142),\n",
       " ('WATTLED LAPWING', 142),\n",
       " ('ASIAN DOLLARD BIRD', 141),\n",
       " ('AZURE BREASTED PITTA', 141),\n",
       " ('CHUCAO TAPACULO', 141),\n",
       " ('COMMON STARLING', 141),\n",
       " ('IBISBILL', 141),\n",
       " ('MYNA', 141),\n",
       " ('TAILORBIRD', 141),\n",
       " ('DUSKY ROBIN', 140),\n",
       " ('GOLDEN BOWER BIRD', 140),\n",
       " ('GREEN BROADBILL', 140),\n",
       " ('NORTHERN MOCKINGBIRD', 140),\n",
       " ('POMARINE JAEGER', 140),\n",
       " ('RAINBOW LORIKEET', 140),\n",
       " ('AMERICAN REDSTART', 139),\n",
       " ('ANNAS HUMMINGBIRD', 139),\n",
       " ('ANTILLEAN EUPHONIA', 139),\n",
       " ('COMMON FIRECREST', 139),\n",
       " ('CREAM COLORED WOODPECKER', 139),\n",
       " ('DEMOISELLE CRANE', 139),\n",
       " ('DUSKY LORY', 139),\n",
       " ('ECUADORIAN HILLSTAR', 139),\n",
       " ('EMERALD TANAGER', 139),\n",
       " ('NORTHERN FLICKER', 139),\n",
       " ('ROSY FACED LOVEBIRD', 139),\n",
       " ('TRICOLORED BLACKBIRD', 139),\n",
       " ('CUBAN TROGON', 138),\n",
       " ('EUROPEAN TURTLE DOVE', 138),\n",
       " ('GILDED FLICKER', 138),\n",
       " ('GREAT POTOO', 138),\n",
       " ('KIWI', 138),\n",
       " ('LILAC ROLLER', 138),\n",
       " ('SCARLET IBIS', 138),\n",
       " ('WATTLED CURASSOW', 138),\n",
       " ('WHIMBREL', 138),\n",
       " ('AFRICAN FIREFINCH', 137),\n",
       " ('AZURE TANAGER', 137),\n",
       " ('BALTIMORE ORIOLE', 137),\n",
       " ('BLACK-NECKED GREBE', 137),\n",
       " ('CAPPED HERON', 137),\n",
       " ('CHATTERING LORY', 137),\n",
       " ('CURL CRESTED ARACURI', 137),\n",
       " ('GUINEAFOWL', 137),\n",
       " ('MANGROVE CUCKOO', 137),\n",
       " ('NORTHERN FULMAR', 137),\n",
       " ('TRUMPTER SWAN', 137),\n",
       " ('AZURE JAY', 136),\n",
       " ('BARRED PUFFBIRD', 136),\n",
       " ('DARJEELING WOODPECKER', 136),\n",
       " ('FAIRY TERN', 136),\n",
       " ('KING VULTURE', 136),\n",
       " ('RED BROWED FINCH', 136),\n",
       " ('TAIWAN MAGPIE', 136),\n",
       " ('TOUCHAN', 136),\n",
       " ('AFRICAN CROWNED CRANE', 135),\n",
       " ('BLACK THROATED WARBLER', 135),\n",
       " ('CRANE HAWK', 135),\n",
       " ('EUROPEAN GOLDFINCH', 135),\n",
       " ('GOLDEN CHLOROPHONIA', 135),\n",
       " ('HOODED MERGANSER', 135),\n",
       " ('MALLARD DUCK', 135),\n",
       " ('RUBY THROATED HUMMINGBIRD', 135),\n",
       " ('STORK BILLED KINGFISHER', 135),\n",
       " ('ANDEAN GOOSE', 134),\n",
       " ('BLACKBURNIAM WARBLER', 134),\n",
       " ('EASTERN BLUEBONNET', 134),\n",
       " ('HARLEQUIN QUAIL', 134),\n",
       " ('AMERICAN GOLDFINCH', 133),\n",
       " ('BLACK-CAPPED CHICKADEE', 133),\n",
       " ('CAPE LONGCLAW', 133),\n",
       " ('CAPUCHINBIRD', 133),\n",
       " ('COMMON IORA', 133),\n",
       " ('RED HEADED WOODPECKER', 133),\n",
       " ('ALBATROSS', 132),\n",
       " ('BALI STARLING', 132),\n",
       " ('BARN SWALLOW', 132),\n",
       " ('BARROWS GOLDENEYE', 132),\n",
       " ('BLACK COCKATO', 132),\n",
       " ('CHESTNET BELLIED EUPHONIA', 132),\n",
       " ('MASKED BOOBY', 132),\n",
       " ('ORANGE BRESTED BUNTING', 132),\n",
       " ('ROCK DOVE', 132),\n",
       " ('SCARLET TANAGER', 132),\n",
       " ('SNOWY EGRET', 132),\n",
       " ('BLACK FRANCOLIN', 131),\n",
       " ('GO AWAY BIRD', 131),\n",
       " ('INDIAN BUSTARD', 131),\n",
       " ('MASKED LAPWING', 131),\n",
       " ('TASMANIAN HEN', 131),\n",
       " ('AMETHYST WOODSTAR', 130),\n",
       " ('EURASIAN GOLDEN ORIOLE', 130),\n",
       " ('NORTHERN RED BISHOP', 130),\n",
       " ('PATAGONIAN SIERRA FINCH', 130),\n",
       " ('RED TAILED THRUSH', 130),\n",
       " ('SNOWY PLOVER', 130)]"
      ]
     },
     "execution_count": 5,
     "metadata": {},
     "output_type": "execute_result"
    }
   ],
   "source": [
    "class_image_counts"
   ]
  },
  {
   "cell_type": "code",
   "execution_count": 6,
   "id": "a054f628",
   "metadata": {},
   "outputs": [
    {
     "name": "stdout",
     "output_type": "stream",
     "text": [
      "['RUFOUS TREPE', 'HOUSE FINCH', 'D-ARNAUDS BARBET']\n"
     ]
    }
   ],
   "source": [
    "# Select the top 3 classes\n",
    "top_classes = [class_image_counts[i][0] for i in range(3)]\n",
    "print(top_classes)"
   ]
  },
  {
   "cell_type": "markdown",
   "id": "217cd7b3",
   "metadata": {},
   "source": [
    "### Getting Top-3 classes of Test"
   ]
  },
  {
   "cell_type": "code",
   "execution_count": 7,
   "id": "0cf04fd6",
   "metadata": {},
   "outputs": [],
   "source": [
    "# Create a list of classes and their corresponding number of images\n",
    "class_image_counts_2 = []\n",
    "for class_name in os.listdir(test_dir):\n",
    "    class_path = os.path.join(test_dir, class_name)\n",
    "    if os.path.isdir(class_path):\n",
    "        num_images = len(os.listdir(class_path))\n",
    "        class_image_counts_2.append((class_name, num_images))"
   ]
  },
  {
   "cell_type": "code",
   "execution_count": 8,
   "id": "54991bf7",
   "metadata": {},
   "outputs": [],
   "source": [
    "# Sort the classes based on the number of images (descending order)\n",
    "class_image_counts_2.sort(key=lambda x: x[1], reverse=True)"
   ]
  },
  {
   "cell_type": "code",
   "execution_count": 9,
   "id": "cb775433",
   "metadata": {},
   "outputs": [
    {
     "name": "stdout",
     "output_type": "stream",
     "text": [
      "['ABBOTTS BABBLER', 'ABBOTTS BOOBY', 'ABYSSINIAN GROUND HORNBILL']\n"
     ]
    }
   ],
   "source": [
    "# Select the top 3 classes\n",
    "top_classes_test = [class_image_counts_2[i][0] for i in range(3)]\n",
    "print(top_classes_test)"
   ]
  },
  {
   "cell_type": "markdown",
   "id": "ab763b92",
   "metadata": {},
   "source": [
    "### Getting Top-3 classes of Valid"
   ]
  },
  {
   "cell_type": "code",
   "execution_count": 10,
   "id": "364374e4",
   "metadata": {},
   "outputs": [],
   "source": [
    "# Create a list of classes and their corresponding number of images\n",
    "class_image_counts_3 = []\n",
    "for class_name in os.listdir(valid_dir):\n",
    "    class_path = os.path.join(valid_dir, class_name)\n",
    "    if os.path.isdir(class_path):\n",
    "        num_images = len(os.listdir(class_path))\n",
    "        class_image_counts_3.append((class_name, num_images))"
   ]
  },
  {
   "cell_type": "code",
   "execution_count": 11,
   "id": "5322e806",
   "metadata": {},
   "outputs": [],
   "source": [
    "# Sort the classes based on the number of images (descending order)\n",
    "class_image_counts_3.sort(key=lambda x: x[1], reverse=True)"
   ]
  },
  {
   "cell_type": "code",
   "execution_count": 12,
   "id": "0fe5e002",
   "metadata": {},
   "outputs": [
    {
     "name": "stdout",
     "output_type": "stream",
     "text": [
      "['ABBOTTS BABBLER', 'ABBOTTS BOOBY', 'ABYSSINIAN GROUND HORNBILL']\n"
     ]
    }
   ],
   "source": [
    "# Select the top 3 classes\n",
    "top_classes_valid = [class_image_counts_3[i][0] for i in range(3)]\n",
    "print(top_classes_valid)"
   ]
  },
  {
   "cell_type": "code",
   "execution_count": 13,
   "id": "30f6404b",
   "metadata": {},
   "outputs": [],
   "source": [
    "# # Move the images of the top classes to a new directory (optional)\n",
    "# new_train_dir = 'C:\\\\Users\\\\HP\\\\Downloads\\\\archive (2)' \n",
    "# os.makedirs(new_train_dir, exist_ok=True)"
   ]
  },
  {
   "cell_type": "code",
   "execution_count": 14,
   "id": "253c1c12",
   "metadata": {},
   "outputs": [],
   "source": [
    "# for class_name in top_classes:\n",
    "#     class_path = os.path.join(train_dir, class_name)\n",
    "#     new_class_path = os.path.join(new_train_dir, class_name)\n",
    "#     shutil.move(class_path, new_class_path)"
   ]
  },
  {
   "cell_type": "code",
   "execution_count": 15,
   "id": "6f7a3511",
   "metadata": {},
   "outputs": [],
   "source": [
    "# # Update the train_dir to the new directory\n",
    "# train_dir = new_train_dir"
   ]
  },
  {
   "cell_type": "markdown",
   "id": "9a13e8c2",
   "metadata": {},
   "source": [
    "# Step 3: Use Data Augmentation\n",
    "Data augmentation helps increase the diversity of your training data and can lead to better model generalization. Keras provides ImageDataGenerator to perform on-the-fly data augmentation during training."
   ]
  },
  {
   "cell_type": "code",
   "execution_count": 45,
   "id": "a794d44c",
   "metadata": {},
   "outputs": [],
   "source": [
    "from keras.preprocessing.image import ImageDataGenerator\n",
    "# Create an ImageDataGenerator for data augmentation\n",
    "augmented_data = ImageDataGenerator(\n",
    "    rescale=1.0 / 255,\n",
    "    rotation_range=40,\n",
    "    width_shift_range=0.2,\n",
    "    height_shift_range=0.2,\n",
    "    shear_range=0.2,\n",
    "    zoom_range=0.2,\n",
    "    horizontal_flip=True,\n",
    "    fill_mode='nearest'\n",
    ")"
   ]
  },
  {
   "cell_type": "code",
   "execution_count": 17,
   "id": "969a11f9",
   "metadata": {},
   "outputs": [],
   "source": [
    "selected_classes_t=top_classes\n",
    "selected_classes_v=top_classes"
   ]
  },
  {
   "cell_type": "code",
   "execution_count": 18,
   "id": "978b1c79",
   "metadata": {},
   "outputs": [],
   "source": [
    "# Create the 'selected_classes' directory if it doesn't exist\n",
    "selected_classes_directory_1 = 'selected_classes_1'\n",
    "os.makedirs(selected_classes_directory_1, exist_ok=True)"
   ]
  },
  {
   "cell_type": "code",
   "execution_count": 19,
   "id": "01c1de6a",
   "metadata": {},
   "outputs": [],
   "source": [
    "selected_classes_directory_2 = 'selected_classes_t'\n",
    "os.makedirs(selected_classes_directory_2, exist_ok=True)"
   ]
  },
  {
   "cell_type": "code",
   "execution_count": 20,
   "id": "4218ef9e",
   "metadata": {},
   "outputs": [],
   "source": [
    "selected_classes_directory_3 = 'selected_classe_v'\n",
    "os.makedirs(selected_classes_directory_3, exist_ok=True)"
   ]
  },
  {
   "cell_type": "code",
   "execution_count": 21,
   "id": "d90b9077",
   "metadata": {},
   "outputs": [],
   "source": [
    "for folder in top_classes:\n",
    "    src_path_1 = os.path.join(train_dir, folder)\n",
    "    dest_path_1 = os.path.join(selected_classes_directory_1, folder)\n",
    "    # Use shutil.copytree(src_path, dselected_classes_directoryest_path) if you want to copy the folders.\n",
    "    shutil.move(src_path_1, dest_path_1)"
   ]
  },
  {
   "cell_type": "code",
   "execution_count": 22,
   "id": "62dc89f8",
   "metadata": {},
   "outputs": [],
   "source": [
    "for folder in top_classes_test:\n",
    "    src_path_2 = os.path.join(test_dir, folder)\n",
    "    dest_path_2 = os.path.join(selected_classes_directory_2, folder)\n",
    "    # Use shutil.copytree(src_path, dselected_classes_directoryest_path) if you want to copy the folders.\n",
    "    shutil.move(src_path_2, dest_path_2)"
   ]
  },
  {
   "cell_type": "code",
   "execution_count": 23,
   "id": "712c3068",
   "metadata": {},
   "outputs": [],
   "source": [
    "for folder in top_classes:\n",
    "    src_path = os.path.join(valid_dir, folder)\n",
    "    dest_path = os.path.join(selected_classes_directory_3, folder)\n",
    "    # Use shutil.copytree(src_path, dselected_classes_directoryest_path) if you want to copy the folders.\n",
    "    shutil.move(src_path, dest_path)"
   ]
  },
  {
   "cell_type": "markdown",
   "id": "5a5ee826",
   "metadata": {},
   "source": [
    "# Step 4: Fine-Tune VGG16\n",
    "Next, you'll fine-tune the pre-trained VGG16 model to classify the three bird species. We'll remove the top layers of VGG16 and add our custom classification layers for the three "
   ]
  },
  {
   "cell_type": "code",
   "execution_count": 24,
   "id": "0e676065",
   "metadata": {},
   "outputs": [],
   "source": [
    "from keras.applications import VGG16\n",
    "from keras.models import Model\n",
    "from keras.layers import Dense, GlobalAveragePooling2D"
   ]
  },
  {
   "cell_type": "code",
   "execution_count": 25,
   "id": "a0f7cf81",
   "metadata": {},
   "outputs": [],
   "source": [
    "# Load the VGG16 model (excluding the top layers)\n",
    "base_model = VGG16(weights='imagenet', include_top=False, input_shape=(224, 224, 3))"
   ]
  },
  {
   "cell_type": "code",
   "execution_count": 26,
   "id": "05ffadd2",
   "metadata": {},
   "outputs": [],
   "source": [
    "# Add custom classification layers\n",
    "x = base_model.output\n",
    "x = GlobalAveragePooling2D()(x)\n",
    "x = Dense(512, activation='relu')(x)\n",
    "predictions = Dense(3, activation='softmax')(x)"
   ]
  },
  {
   "cell_type": "code",
   "execution_count": 27,
   "id": "843d45ae",
   "metadata": {},
   "outputs": [],
   "source": [
    "# Create the final model\n",
    "model = Model(inputs=base_model.input, outputs=predictions)"
   ]
  },
  {
   "cell_type": "code",
   "execution_count": 28,
   "id": "90f0c007",
   "metadata": {},
   "outputs": [],
   "source": [
    "# Compile the model\n",
    "model.compile(optimizer='adam', loss='categorical_crossentropy', metrics=['accuracy'])"
   ]
  },
  {
   "cell_type": "markdown",
   "id": "b9345c37",
   "metadata": {},
   "source": [
    "# Step 5: Train and Evaluate the Model\n",
    "Now, you can train the model using the augmented data and evaluate its performance."
   ]
  },
  {
   "cell_type": "code",
   "execution_count": 29,
   "id": "6e0185e1",
   "metadata": {},
   "outputs": [],
   "source": [
    "import pathlib\n",
    "from tensorflow.keras.utils import image_dataset_from_directory\n",
    "from tensorflow import keras\n",
    "from tensorflow.keras import layers"
   ]
  },
  {
   "cell_type": "code",
   "execution_count": 30,
   "id": "f0222741",
   "metadata": {},
   "outputs": [
    {
     "name": "stdout",
     "output_type": "stream",
     "text": [
      "Found 1488 files belonging to 3 classes.\n",
      "Found 30 files belonging to 3 classes.\n",
      "Found 30 files belonging to 3 classes.\n"
     ]
    }
   ],
   "source": [
    "train_dataset = image_dataset_from_directory(\n",
    "    selected_classes_directory_1,\n",
    "    image_size=(224,224),\n",
    "    batch_size=32)\n",
    "validation_dataset = image_dataset_from_directory(\n",
    "    selected_classes_directory_2,\n",
    "    image_size=(224,224),\n",
    "    batch_size=32)\n",
    "test_dataset = image_dataset_from_directory(\n",
    "    selected_classes_directory_3,\n",
    "    image_size=(224,224),\n",
    "    batch_size=32)"
   ]
  },
  {
   "cell_type": "code",
   "execution_count": 31,
   "id": "9a2040ab",
   "metadata": {},
   "outputs": [],
   "source": [
    "import numpy as np\n",
    "\n",
    "def get_features_and_labels(dataset):\n",
    "    all_features = []\n",
    "    all_labels = []\n",
    "    for images, labels in dataset:\n",
    "        preprocessed_images = keras.applications.vgg16.preprocess_input(images)\n",
    "        features = base_model.predict(preprocessed_images)\n",
    "        all_features.append(features)\n",
    "        all_labels.append(labels)\n",
    "    return np.concatenate(all_features), np.concatenate(all_labels)\n",
    "\n"
   ]
  },
  {
   "cell_type": "code",
   "execution_count": 32,
   "id": "62eca19a",
   "metadata": {},
   "outputs": [
    {
     "name": "stdout",
     "output_type": "stream",
     "text": [
      "1/1 [==============================] - 9s 9s/step\n"
     ]
    }
   ],
   "source": [
    "val_features, val_labels =  get_features_and_labels(validation_dataset)\n"
   ]
  },
  {
   "cell_type": "code",
   "execution_count": 33,
   "id": "eb9d8c25",
   "metadata": {},
   "outputs": [
    {
     "name": "stdout",
     "output_type": "stream",
     "text": [
      "1/1 [==============================] - 9s 9s/step\n"
     ]
    }
   ],
   "source": [
    "test_features, test_labels =  get_features_and_labels(test_dataset)"
   ]
  },
  {
   "cell_type": "code",
   "execution_count": 34,
   "id": "222d91d0",
   "metadata": {},
   "outputs": [
    {
     "name": "stdout",
     "output_type": "stream",
     "text": [
      "1/1 [==============================] - 10s 10s/step\n",
      "1/1 [==============================] - 11s 11s/step\n",
      "1/1 [==============================] - 11s 11s/step\n",
      "1/1 [==============================] - 11s 11s/step\n",
      "1/1 [==============================] - 11s 11s/step\n",
      "1/1 [==============================] - 11s 11s/step\n",
      "1/1 [==============================] - 12s 12s/step\n",
      "1/1 [==============================] - 11s 11s/step\n",
      "1/1 [==============================] - 12s 12s/step\n",
      "1/1 [==============================] - 11s 11s/step\n",
      "1/1 [==============================] - 11s 11s/step\n",
      "1/1 [==============================] - 11s 11s/step\n",
      "1/1 [==============================] - 11s 11s/step\n",
      "1/1 [==============================] - 11s 11s/step\n",
      "1/1 [==============================] - 11s 11s/step\n",
      "1/1 [==============================] - 11s 11s/step\n",
      "1/1 [==============================] - 11s 11s/step\n",
      "1/1 [==============================] - 12s 12s/step\n",
      "1/1 [==============================] - 11s 11s/step\n",
      "1/1 [==============================] - 11s 11s/step\n",
      "1/1 [==============================] - 11s 11s/step\n",
      "1/1 [==============================] - 11s 11s/step\n",
      "1/1 [==============================] - 11s 11s/step\n",
      "1/1 [==============================] - 11s 11s/step\n",
      "1/1 [==============================] - 11s 11s/step\n",
      "1/1 [==============================] - 11s 11s/step\n",
      "1/1 [==============================] - 11s 11s/step\n",
      "1/1 [==============================] - 11s 11s/step\n",
      "1/1 [==============================] - 11s 11s/step\n",
      "1/1 [==============================] - 11s 11s/step\n",
      "1/1 [==============================] - 11s 11s/step\n",
      "1/1 [==============================] - 11s 11s/step\n",
      "1/1 [==============================] - 11s 11s/step\n",
      "1/1 [==============================] - 11s 11s/step\n",
      "1/1 [==============================] - 11s 11s/step\n",
      "1/1 [==============================] - 11s 11s/step\n",
      "1/1 [==============================] - 11s 11s/step\n",
      "1/1 [==============================] - 11s 11s/step\n",
      "1/1 [==============================] - 11s 11s/step\n",
      "1/1 [==============================] - 11s 11s/step\n",
      "1/1 [==============================] - 11s 11s/step\n",
      "1/1 [==============================] - 11s 11s/step\n",
      "1/1 [==============================] - 11s 11s/step\n",
      "1/1 [==============================] - 11s 11s/step\n",
      "1/1 [==============================] - 13s 13s/step\n",
      "1/1 [==============================] - 13s 13s/step\n",
      "1/1 [==============================] - 6s 6s/step\n"
     ]
    }
   ],
   "source": [
    "train_features, train_labels =  get_features_and_labels(train_dataset)\n"
   ]
  },
  {
   "cell_type": "code",
   "execution_count": 52,
   "id": "be6712b0",
   "metadata": {},
   "outputs": [
    {
     "name": "stdout",
     "output_type": "stream",
     "text": [
      "Found 1488 images belonging to 3 classes.\n"
     ]
    }
   ],
   "source": [
    "# Load the data using flow_from_directory\n",
    "train_generator = augmented_data.flow_from_directory(\n",
    "    selected_classes_directory_1,\n",
    "    target_size=(224, 224),  # Input size for VGG16\n",
    "    batch_size=32,\n",
    "    class_mode='categorical'\n",
    ")"
   ]
  },
  {
   "cell_type": "code",
   "execution_count": 54,
   "id": "deb307c0",
   "metadata": {},
   "outputs": [
    {
     "ename": "TypeError",
     "evalue": "'NoneType' object is not callable",
     "output_type": "error",
     "traceback": [
      "\u001b[1;31m---------------------------------------------------------------------------\u001b[0m",
      "\u001b[1;31mTypeError\u001b[0m                                 Traceback (most recent call last)",
      "Cell \u001b[1;32mIn[54], line 1\u001b[0m\n\u001b[1;32m----> 1\u001b[0m history \u001b[38;5;241m=\u001b[39m \u001b[43mmodel\u001b[49m\u001b[38;5;241;43m.\u001b[39;49m\u001b[43mfit\u001b[49m\u001b[43m(\u001b[49m\u001b[43mtrain_generator\u001b[49m\u001b[43m)\u001b[49m\n",
      "File \u001b[1;32m~\\anaconda3\\Anaconda\\Lib\\site-packages\\keras\\src\\utils\\traceback_utils.py:70\u001b[0m, in \u001b[0;36mfilter_traceback.<locals>.error_handler\u001b[1;34m(*args, **kwargs)\u001b[0m\n\u001b[0;32m     67\u001b[0m     filtered_tb \u001b[38;5;241m=\u001b[39m _process_traceback_frames(e\u001b[38;5;241m.\u001b[39m__traceback__)\n\u001b[0;32m     68\u001b[0m     \u001b[38;5;66;03m# To get the full stack trace, call:\u001b[39;00m\n\u001b[0;32m     69\u001b[0m     \u001b[38;5;66;03m# `tf.debugging.disable_traceback_filtering()`\u001b[39;00m\n\u001b[1;32m---> 70\u001b[0m     \u001b[38;5;28;01mraise\u001b[39;00m e\u001b[38;5;241m.\u001b[39mwith_traceback(filtered_tb) \u001b[38;5;28;01mfrom\u001b[39;00m \u001b[38;5;28;01mNone\u001b[39;00m\n\u001b[0;32m     71\u001b[0m \u001b[38;5;28;01mfinally\u001b[39;00m:\n\u001b[0;32m     72\u001b[0m     \u001b[38;5;28;01mdel\u001b[39;00m filtered_tb\n",
      "File \u001b[1;32m~\\anaconda3\\Anaconda\\Lib\\site-packages\\tensorflow\\python\\eager\\polymorphic_function\\polymorphic_function.py:857\u001b[0m, in \u001b[0;36mFunction._call\u001b[1;34m(self, *args, **kwds)\u001b[0m\n\u001b[0;32m    854\u001b[0m   \u001b[38;5;28mself\u001b[39m\u001b[38;5;241m.\u001b[39m_lock\u001b[38;5;241m.\u001b[39mrelease()\n\u001b[0;32m    855\u001b[0m   \u001b[38;5;66;03m# In this case we have created variables on the first call, so we run the\u001b[39;00m\n\u001b[0;32m    856\u001b[0m   \u001b[38;5;66;03m# defunned version which is guaranteed to never create variables.\u001b[39;00m\n\u001b[1;32m--> 857\u001b[0m   \u001b[38;5;28;01mreturn\u001b[39;00m \u001b[38;5;28;43mself\u001b[39;49m\u001b[38;5;241;43m.\u001b[39;49m\u001b[43m_no_variable_creation_fn\u001b[49m\u001b[43m(\u001b[49m\u001b[38;5;241;43m*\u001b[39;49m\u001b[43margs\u001b[49m\u001b[43m,\u001b[49m\u001b[43m \u001b[49m\u001b[38;5;241;43m*\u001b[39;49m\u001b[38;5;241;43m*\u001b[39;49m\u001b[43mkwds\u001b[49m\u001b[43m)\u001b[49m  \u001b[38;5;66;03m# pylint: disable=not-callable\u001b[39;00m\n\u001b[0;32m    858\u001b[0m \u001b[38;5;28;01melif\u001b[39;00m \u001b[38;5;28mself\u001b[39m\u001b[38;5;241m.\u001b[39m_variable_creation_fn \u001b[38;5;129;01mis\u001b[39;00m \u001b[38;5;129;01mnot\u001b[39;00m \u001b[38;5;28;01mNone\u001b[39;00m:\n\u001b[0;32m    859\u001b[0m   \u001b[38;5;66;03m# Release the lock early so that multiple threads can perform the call\u001b[39;00m\n\u001b[0;32m    860\u001b[0m   \u001b[38;5;66;03m# in parallel.\u001b[39;00m\n\u001b[0;32m    861\u001b[0m   \u001b[38;5;28mself\u001b[39m\u001b[38;5;241m.\u001b[39m_lock\u001b[38;5;241m.\u001b[39mrelease()\n",
      "\u001b[1;31mTypeError\u001b[0m: 'NoneType' object is not callable"
     ]
    }
   ],
   "source": [
    "history = model.fit(train_generator, epochs=10,batch_size=32)"
   ]
  },
  {
   "cell_type": "markdown",
   "id": "a72e740c",
   "metadata": {},
   "source": [
    "# Step-6"
   ]
  },
  {
   "cell_type": "code",
   "execution_count": null,
   "id": "c363189d",
   "metadata": {
    "scrolled": true
   },
   "outputs": [],
   "source": [
    "results = model.evaluate(test_features)\n",
    "print(\"Test accuracy:\", results[1])"
   ]
  },
  {
   "cell_type": "code",
   "execution_count": null,
   "id": "221521db",
   "metadata": {},
   "outputs": [],
   "source": [
    "test_generator = test_datagen.flow_from_directory(\n",
    "    test_dir,\n",
    "    target_size=(224, 224),\n",
    "    batch_size=32,\n",
    "    class_mode='categorical',\n",
    "    shuffle=False\n",
    ")"
   ]
  },
  {
   "cell_type": "code",
   "execution_count": null,
   "id": "b6364504",
   "metadata": {},
   "outputs": [],
   "source": [
    "y_pred = model.predict(test_generator)\n",
    "y_pred_classes = np.argmax(y_pred, axis=1)\n",
    "true_classes = test_generator.classes\n",
    "\n",
    "misclassified_indices = np.where(y_pred_classes != true_classes)[0]\n",
    "misclassified_images = test_generator.filenames[misclassified_indices]\n",
    "true_labels = [test_generator.classes[i] for i in misclassified_indices]\n",
    "predicted_labels = y_pred_classes[misclassified_indices]"
   ]
  },
  {
   "cell_type": "code",
   "execution_count": null,
   "id": "c46b2537",
   "metadata": {},
   "outputs": [],
   "source": [
    "# Calculate confusion matrix\n",
    "y_true = test_generator.classes\n",
    "y_pred = np.argmax(model.predict(test_generator), axis=1)\n",
    "confusion = confusion_matrix(y_true, y_pred)\n",
    "print(\"Confusion Matrix:\")\n",
    "print(confusion)"
   ]
  },
  {
   "cell_type": "code",
   "execution_count": null,
   "id": "2bf816df",
   "metadata": {},
   "outputs": [],
   "source": [
    "# Calculate classification report\n",
    "print(\"Classification Report:\")\n",
    "print(classification_report(y_true, y_pred)"
   ]
  },
  {
   "cell_type": "code",
   "execution_count": null,
   "id": "11e888f3",
   "metadata": {},
   "outputs": [],
   "source": [
    "from sklearn.metrics import precision_score, recall_score, f1_score\n",
    "\n",
    "precision = precision_score(y_true, y_pred, average='weighted')\n",
    "recall = recall_score(y_true, y_pred, average='weighted')\n",
    "f1 = f1_score(y_true, y_pred, average='weighted')\n",
    "\n",
    "print(\"Precision:\", precision)\n",
    "print(\"Recall:\", recall)\n",
    "print(\"F1-Score:\", f1)"
   ]
  },
  {
   "cell_type": "code",
   "execution_count": null,
   "id": "1334487b",
   "metadata": {},
   "outputs": [],
   "source": [
    "from sklearn.metrics import precision_recall_curve, auc\n",
    "import matplotlib.pyplot as plt\n",
    "\n",
    "# Get probabilities for each class\n",
    "y_prob = model.predict(test_generator)"
   ]
  },
  {
   "cell_type": "code",
   "execution_count": null,
   "id": "45755af2",
   "metadata": {},
   "outputs": [],
   "source": [
    " Calculate precision-recall curve\n",
    "precision = dict()\n",
    "recall = dict()\n",
    "for i in range(len(top_classes)):\n",
    "    precision[i], recall[i], _ = precision_recall_curve(y_true == i, y_prob[:, i])"
   ]
  },
  {
   "cell_type": "code",
   "execution_count": null,
   "id": "67680dd9",
   "metadata": {},
   "outputs": [],
   "source": [
    "# Calculate AUC for each class\n",
    "pr_auc = dict()\n",
    "for i in range(len(top_classes)):\n",
    "    pr_auc[i] = auc(recall[i], precision[i])"
   ]
  },
  {
   "cell_type": "code",
   "execution_count": null,
   "id": "f63bf260",
   "metadata": {},
   "outputs": [],
   "source": [
    "# Plot the precision-recall curves\n",
    "plt.figure()\n",
    "for i in range(len(top_classes)):\n",
    "    plt.plot(recall[i], precision[i], label=f'Class {i} (AUC = {pr_auc[i]:.2f})')\n",
    "\n",
    "plt.xlabel('Recall')\n",
    "plt.ylabel('Precision')\n",
    "plt.title('Precision-Recall Curve')\n",
    "plt.legend()\n",
    "plt.show()"
   ]
  },
  {
   "cell_type": "code",
   "execution_count": null,
   "id": "1dd81869",
   "metadata": {},
   "outputs": [],
   "source": []
  },
  {
   "cell_type": "code",
   "execution_count": null,
   "id": "22d79f66",
   "metadata": {},
   "outputs": [],
   "source": []
  }
 ],
 "metadata": {
  "kernelspec": {
   "display_name": "Python 3 (ipykernel)",
   "language": "python",
   "name": "python3"
  },
  "language_info": {
   "codemirror_mode": {
    "name": "ipython",
    "version": 3
   },
   "file_extension": ".py",
   "mimetype": "text/x-python",
   "name": "python",
   "nbconvert_exporter": "python",
   "pygments_lexer": "ipython3",
   "version": "3.11.3"
  }
 },
 "nbformat": 4,
 "nbformat_minor": 5
}
